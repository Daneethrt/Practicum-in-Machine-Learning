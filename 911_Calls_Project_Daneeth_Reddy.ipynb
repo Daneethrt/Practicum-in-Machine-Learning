{
  "cells": [
    {
      "cell_type": "markdown",
      "metadata": {
        "id": "cAlUh2NJVez2"
      },
      "source": [
        "# 911 Calls Project"
      ]
    },
    {
      "cell_type": "markdown",
      "metadata": {
        "id": "m50LeJKEVez4"
      },
      "source": [
        "For this capstone project we will be analyzing some 911 call data. The data contains the following fields:\n",
        "\n",
        "* lat : String variable, Latitude\n",
        "* lng: String variable, Longitude\n",
        "* desc: String variable, Description of the Emergency Call\n",
        "* zip: String variable, Zipcode\n",
        "* title: String variable, Title\n",
        "* timeStamp: String variable, YYYY-MM-DD HH:MM:SS\n",
        "* twp: String variable, Township\n",
        "* addr: String variable, Address\n",
        "* e: String variable, Dummy variable (always 1)"
      ]
    },
    {
      "cell_type": "markdown",
      "metadata": {
        "id": "ZbegapWPVez4"
      },
      "source": [
        "## Data and Setup"
      ]
    },
    {
      "cell_type": "markdown",
      "metadata": {
        "id": "j55oNKd0Vez5"
      },
      "source": [
        "**Import numpy and pandas**"
      ]
    },
    {
      "cell_type": "code",
      "execution_count": 52,
      "metadata": {
        "id": "gMj0ql6WVez5"
      },
      "outputs": [],
      "source": [
        "import numpy as np\n",
        "import pandas as pd"
      ]
    },
    {
      "cell_type": "markdown",
      "metadata": {
        "id": "4_m3hxgZVez6"
      },
      "source": [
        "**Import visualization libraries and set %matplotlib inline.**"
      ]
    },
    {
      "cell_type": "code",
      "execution_count": 53,
      "metadata": {
        "id": "W_UBMQF2Vez6"
      },
      "outputs": [],
      "source": [
        "import matplotlib.pyplot as plt\n",
        "import seaborn as sns\n",
        "sns.set_style('whitegrid')\n",
        "%matplotlib inline"
      ]
    },
    {
      "cell_type": "markdown",
      "metadata": {
        "id": "4n2r7JGPVez6"
      },
      "source": [
        "**Read in the csv file as a dataframe called df**"
      ]
    },
    {
      "cell_type": "code",
      "execution_count": 54,
      "metadata": {
        "colab": {
          "base_uri": "https://localhost:8080/"
        },
        "id": "GDd1O_FTVez6",
        "outputId": "117d2df5-78d1-4a10-df38-48b3878c4222"
      },
      "outputs": [
        {
          "output_type": "stream",
          "name": "stdout",
          "text": [
            "             lat        lng  ...                            addr  e\n",
            "0      40.297876 -75.581294  ...          REINDEER CT & DEAD END  1\n",
            "1      40.258061 -75.264680  ...      BRIAR PATH & WHITEMARSH LN  1\n",
            "2      40.121182 -75.351975  ...                        HAWS AVE  1\n",
            "3      40.116153 -75.343513  ...              AIRY ST & SWEDE ST  1\n",
            "4      40.251492 -75.603350  ...        CHERRYWOOD CT & DEAD END  1\n",
            "...          ...        ...  ...                             ... ..\n",
            "99487  40.132869 -75.333515  ...         MARKLEY ST & W LOGAN ST  1\n",
            "99488  40.006974 -75.289080  ...  LANCASTER AVE & RITTENHOUSE PL  1\n",
            "99489  40.115429 -75.334679  ...         CHESTNUT ST & WALNUT ST  1\n",
            "99490  40.186431 -75.192555  ...           WELSH RD & WEBSTER LN  1\n",
            "99491  40.207055 -75.317952  ...          MORRIS RD & S BROAD ST  1\n",
            "\n",
            "[99492 rows x 9 columns]\n"
          ]
        }
      ],
      "source": [
        "df = pd.read_csv('/content/drive/MyDrive/911.csv')\n",
        "print(df)"
      ]
    },
    {
      "cell_type": "code",
      "source": [
        "from google.colab import drive\n",
        "drive.mount('/content/drive')"
      ],
      "metadata": {
        "colab": {
          "base_uri": "https://localhost:8080/"
        },
        "id": "5ImIRgPkZhte",
        "outputId": "82869eff-2bc5-4863-8ddb-7322bf12b7be"
      },
      "execution_count": 55,
      "outputs": [
        {
          "output_type": "stream",
          "name": "stdout",
          "text": [
            "Drive already mounted at /content/drive; to attempt to forcibly remount, call drive.mount(\"/content/drive\", force_remount=True).\n"
          ]
        }
      ]
    },
    {
      "cell_type": "markdown",
      "metadata": {
        "id": "vcpE8N9wVez7"
      },
      "source": [
        "**Check the info() of the df**"
      ]
    },
    {
      "cell_type": "code",
      "execution_count": 56,
      "metadata": {
        "colab": {
          "base_uri": "https://localhost:8080/"
        },
        "id": "4VaSbiGIVez7",
        "outputId": "2ff68299-90c5-4290-866c-af599ccbb7dc"
      },
      "outputs": [
        {
          "output_type": "stream",
          "name": "stdout",
          "text": [
            "<class 'pandas.core.frame.DataFrame'>\n",
            "RangeIndex: 99492 entries, 0 to 99491\n",
            "Data columns (total 9 columns):\n",
            " #   Column     Non-Null Count  Dtype  \n",
            "---  ------     --------------  -----  \n",
            " 0   lat        99492 non-null  float64\n",
            " 1   lng        99492 non-null  float64\n",
            " 2   desc       99492 non-null  object \n",
            " 3   zip        86637 non-null  float64\n",
            " 4   title      99492 non-null  object \n",
            " 5   timeStamp  99492 non-null  object \n",
            " 6   twp        99449 non-null  object \n",
            " 7   addr       98973 non-null  object \n",
            " 8   e          99492 non-null  int64  \n",
            "dtypes: float64(3), int64(1), object(5)\n",
            "memory usage: 6.8+ MB\n"
          ]
        }
      ],
      "source": [
        "df.info()"
      ]
    },
    {
      "cell_type": "markdown",
      "metadata": {
        "id": "KYo44b88Vez7"
      },
      "source": [
        "**Check the head of df (first 3 rows)**"
      ]
    },
    {
      "cell_type": "code",
      "execution_count": 57,
      "metadata": {
        "colab": {
          "base_uri": "https://localhost:8080/",
          "height": 187
        },
        "id": "_JTF75Y4Vez8",
        "outputId": "8b1b2a87-b0a9-49cf-dc7e-a6a6e0e0459b"
      },
      "outputs": [
        {
          "output_type": "execute_result",
          "data": {
            "text/html": [
              "\n",
              "  <div id=\"df-065a1274-6718-4cb4-b188-c6d1f409da0e\">\n",
              "    <div class=\"colab-df-container\">\n",
              "      <div>\n",
              "<style scoped>\n",
              "    .dataframe tbody tr th:only-of-type {\n",
              "        vertical-align: middle;\n",
              "    }\n",
              "\n",
              "    .dataframe tbody tr th {\n",
              "        vertical-align: top;\n",
              "    }\n",
              "\n",
              "    .dataframe thead th {\n",
              "        text-align: right;\n",
              "    }\n",
              "</style>\n",
              "<table border=\"1\" class=\"dataframe\">\n",
              "  <thead>\n",
              "    <tr style=\"text-align: right;\">\n",
              "      <th></th>\n",
              "      <th>lat</th>\n",
              "      <th>lng</th>\n",
              "      <th>desc</th>\n",
              "      <th>zip</th>\n",
              "      <th>title</th>\n",
              "      <th>timeStamp</th>\n",
              "      <th>twp</th>\n",
              "      <th>addr</th>\n",
              "      <th>e</th>\n",
              "    </tr>\n",
              "  </thead>\n",
              "  <tbody>\n",
              "    <tr>\n",
              "      <th>0</th>\n",
              "      <td>40.297876</td>\n",
              "      <td>-75.581294</td>\n",
              "      <td>REINDEER CT &amp; DEAD END;  NEW HANOVER; Station ...</td>\n",
              "      <td>19525.0</td>\n",
              "      <td>EMS: BACK PAINS/INJURY</td>\n",
              "      <td>2015-12-10 17:40:00</td>\n",
              "      <td>NEW HANOVER</td>\n",
              "      <td>REINDEER CT &amp; DEAD END</td>\n",
              "      <td>1</td>\n",
              "    </tr>\n",
              "    <tr>\n",
              "      <th>1</th>\n",
              "      <td>40.258061</td>\n",
              "      <td>-75.264680</td>\n",
              "      <td>BRIAR PATH &amp; WHITEMARSH LN;  HATFIELD TOWNSHIP...</td>\n",
              "      <td>19446.0</td>\n",
              "      <td>EMS: DIABETIC EMERGENCY</td>\n",
              "      <td>2015-12-10 17:40:00</td>\n",
              "      <td>HATFIELD TOWNSHIP</td>\n",
              "      <td>BRIAR PATH &amp; WHITEMARSH LN</td>\n",
              "      <td>1</td>\n",
              "    </tr>\n",
              "    <tr>\n",
              "      <th>2</th>\n",
              "      <td>40.121182</td>\n",
              "      <td>-75.351975</td>\n",
              "      <td>HAWS AVE; NORRISTOWN; 2015-12-10 @ 14:39:21-St...</td>\n",
              "      <td>19401.0</td>\n",
              "      <td>Fire: GAS-ODOR/LEAK</td>\n",
              "      <td>2015-12-10 17:40:00</td>\n",
              "      <td>NORRISTOWN</td>\n",
              "      <td>HAWS AVE</td>\n",
              "      <td>1</td>\n",
              "    </tr>\n",
              "  </tbody>\n",
              "</table>\n",
              "</div>\n",
              "      <button class=\"colab-df-convert\" onclick=\"convertToInteractive('df-065a1274-6718-4cb4-b188-c6d1f409da0e')\"\n",
              "              title=\"Convert this dataframe to an interactive table.\"\n",
              "              style=\"display:none;\">\n",
              "        \n",
              "  <svg xmlns=\"http://www.w3.org/2000/svg\" height=\"24px\"viewBox=\"0 0 24 24\"\n",
              "       width=\"24px\">\n",
              "    <path d=\"M0 0h24v24H0V0z\" fill=\"none\"/>\n",
              "    <path d=\"M18.56 5.44l.94 2.06.94-2.06 2.06-.94-2.06-.94-.94-2.06-.94 2.06-2.06.94zm-11 1L8.5 8.5l.94-2.06 2.06-.94-2.06-.94L8.5 2.5l-.94 2.06-2.06.94zm10 10l.94 2.06.94-2.06 2.06-.94-2.06-.94-.94-2.06-.94 2.06-2.06.94z\"/><path d=\"M17.41 7.96l-1.37-1.37c-.4-.4-.92-.59-1.43-.59-.52 0-1.04.2-1.43.59L10.3 9.45l-7.72 7.72c-.78.78-.78 2.05 0 2.83L4 21.41c.39.39.9.59 1.41.59.51 0 1.02-.2 1.41-.59l7.78-7.78 2.81-2.81c.8-.78.8-2.07 0-2.86zM5.41 20L4 18.59l7.72-7.72 1.47 1.35L5.41 20z\"/>\n",
              "  </svg>\n",
              "      </button>\n",
              "      \n",
              "  <style>\n",
              "    .colab-df-container {\n",
              "      display:flex;\n",
              "      flex-wrap:wrap;\n",
              "      gap: 12px;\n",
              "    }\n",
              "\n",
              "    .colab-df-convert {\n",
              "      background-color: #E8F0FE;\n",
              "      border: none;\n",
              "      border-radius: 50%;\n",
              "      cursor: pointer;\n",
              "      display: none;\n",
              "      fill: #1967D2;\n",
              "      height: 32px;\n",
              "      padding: 0 0 0 0;\n",
              "      width: 32px;\n",
              "    }\n",
              "\n",
              "    .colab-df-convert:hover {\n",
              "      background-color: #E2EBFA;\n",
              "      box-shadow: 0px 1px 2px rgba(60, 64, 67, 0.3), 0px 1px 3px 1px rgba(60, 64, 67, 0.15);\n",
              "      fill: #174EA6;\n",
              "    }\n",
              "\n",
              "    [theme=dark] .colab-df-convert {\n",
              "      background-color: #3B4455;\n",
              "      fill: #D2E3FC;\n",
              "    }\n",
              "\n",
              "    [theme=dark] .colab-df-convert:hover {\n",
              "      background-color: #434B5C;\n",
              "      box-shadow: 0px 1px 3px 1px rgba(0, 0, 0, 0.15);\n",
              "      filter: drop-shadow(0px 1px 2px rgba(0, 0, 0, 0.3));\n",
              "      fill: #FFFFFF;\n",
              "    }\n",
              "  </style>\n",
              "\n",
              "      <script>\n",
              "        const buttonEl =\n",
              "          document.querySelector('#df-065a1274-6718-4cb4-b188-c6d1f409da0e button.colab-df-convert');\n",
              "        buttonEl.style.display =\n",
              "          google.colab.kernel.accessAllowed ? 'block' : 'none';\n",
              "\n",
              "        async function convertToInteractive(key) {\n",
              "          const element = document.querySelector('#df-065a1274-6718-4cb4-b188-c6d1f409da0e');\n",
              "          const dataTable =\n",
              "            await google.colab.kernel.invokeFunction('convertToInteractive',\n",
              "                                                     [key], {});\n",
              "          if (!dataTable) return;\n",
              "\n",
              "          const docLinkHtml = 'Like what you see? Visit the ' +\n",
              "            '<a target=\"_blank\" href=https://colab.research.google.com/notebooks/data_table.ipynb>data table notebook</a>'\n",
              "            + ' to learn more about interactive tables.';\n",
              "          element.innerHTML = '';\n",
              "          dataTable['output_type'] = 'display_data';\n",
              "          await google.colab.output.renderOutput(dataTable, element);\n",
              "          const docLink = document.createElement('div');\n",
              "          docLink.innerHTML = docLinkHtml;\n",
              "          element.appendChild(docLink);\n",
              "        }\n",
              "      </script>\n",
              "    </div>\n",
              "  </div>\n",
              "  "
            ],
            "text/plain": [
              "         lat        lng  ...                        addr  e\n",
              "0  40.297876 -75.581294  ...      REINDEER CT & DEAD END  1\n",
              "1  40.258061 -75.264680  ...  BRIAR PATH & WHITEMARSH LN  1\n",
              "2  40.121182 -75.351975  ...                    HAWS AVE  1\n",
              "\n",
              "[3 rows x 9 columns]"
            ]
          },
          "metadata": {},
          "execution_count": 57
        }
      ],
      "source": [
        "df.head(3)"
      ]
    },
    {
      "cell_type": "markdown",
      "metadata": {
        "id": "QccDkqvUVez8"
      },
      "source": [
        "## Basic Questions"
      ]
    },
    {
      "cell_type": "markdown",
      "metadata": {
        "id": "NlzV0w3zVez8"
      },
      "source": [
        "**Show the top 5 zipcodes for 911 calls**"
      ]
    },
    {
      "cell_type": "code",
      "execution_count": 58,
      "metadata": {
        "id": "L2rv40ArVez8",
        "outputId": "589262d8-c71b-4b38-f5ba-61a3ccdcd14a",
        "colab": {
          "base_uri": "https://localhost:8080/"
        }
      },
      "outputs": [
        {
          "output_type": "execute_result",
          "data": {
            "text/plain": [
              "19401.0    6979\n",
              "19464.0    6643\n",
              "19403.0    4854\n",
              "19446.0    4748\n",
              "19406.0    3174\n",
              "Name: zip, dtype: int64"
            ]
          },
          "metadata": {},
          "execution_count": 58
        }
      ],
      "source": [
        "# top 5 zipcodes for 911 calls\n",
        "df['zip'].value_counts().head(5)"
      ]
    },
    {
      "cell_type": "markdown",
      "metadata": {
        "id": "3DiGWlghVez9"
      },
      "source": [
        "**Show the top 5 townships (twp) for 911 calls**"
      ]
    },
    {
      "cell_type": "code",
      "execution_count": 59,
      "metadata": {
        "id": "jDCdUJXtVez9",
        "outputId": "985b7787-df30-48b6-9c5b-513ec2116eb8",
        "colab": {
          "base_uri": "https://localhost:8080/"
        }
      },
      "outputs": [
        {
          "output_type": "execute_result",
          "data": {
            "text/plain": [
              "LOWER MERION    8443\n",
              "ABINGTON        5977\n",
              "NORRISTOWN      5890\n",
              "UPPER MERION    5227\n",
              "CHELTENHAM      4575\n",
              "Name: twp, dtype: int64"
            ]
          },
          "metadata": {},
          "execution_count": 59
        }
      ],
      "source": [
        "# he top 5 townships (twp) for 911 calls\n",
        "df['twp'].value_counts().head(5)"
      ]
    },
    {
      "cell_type": "markdown",
      "metadata": {
        "id": "wRYGkLpKVez9"
      },
      "source": [
        "**Take a look at the 'title' column, how many unique title codes are there?**"
      ]
    },
    {
      "cell_type": "code",
      "execution_count": 60,
      "metadata": {
        "id": "jQGKnXJQVez9",
        "outputId": "3dd84623-f6ef-474f-8bf9-eccaedf01522",
        "colab": {
          "base_uri": "https://localhost:8080/"
        }
      },
      "outputs": [
        {
          "output_type": "execute_result",
          "data": {
            "text/plain": [
              "110"
            ]
          },
          "metadata": {},
          "execution_count": 60
        }
      ],
      "source": [
        "# number of unique title code in the data set\n",
        "df['title'].nunique()"
      ]
    },
    {
      "cell_type": "markdown",
      "metadata": {
        "id": "0IWswpP_Vez9"
      },
      "source": [
        "## Creating new features"
      ]
    },
    {
      "cell_type": "markdown",
      "metadata": {
        "id": "lIJsgkFrVez-"
      },
      "source": [
        "**In the titles column there are \"Reasons/Departments\" specified before the title code. These are EMS, Fire, and Traffic. Use .apply() with a custom lambda expression to create a new column called \"Reason\" that contains this string value.** \n",
        "\n",
        "*For example, if the title column value is EMS: BACK PAINS/INJURY , the Reason column value would be EMS.*"
      ]
    },
    {
      "cell_type": "code",
      "execution_count": 61,
      "metadata": {
        "collapsed": true,
        "id": "1OAs5-dZVez-"
      },
      "outputs": [],
      "source": [
        "df['Reason'] = df['title'].apply(lambda title: title.split(\":\")[0]) #creating a new column 'reason'"
      ]
    },
    {
      "cell_type": "markdown",
      "metadata": {
        "id": "D8bigrUmVez-"
      },
      "source": [
        "**Count 911 calls based off of this new column by Reason**"
      ]
    },
    {
      "cell_type": "code",
      "execution_count": 62,
      "metadata": {
        "id": "TiUkSRurVez-",
        "outputId": "5d55d377-282d-4748-8a05-577190695adb",
        "colab": {
          "base_uri": "https://localhost:8080/"
        }
      },
      "outputs": [
        {
          "output_type": "execute_result",
          "data": {
            "text/plain": [
              "EMS        48877\n",
              "Traffic    35695\n",
              "Fire       14920\n",
              "Name: Reason, dtype: int64"
            ]
          },
          "metadata": {},
          "execution_count": 62
        }
      ],
      "source": [
        "df['Reason'].value_counts()  #getting the most common reason for calling 911"
      ]
    },
    {
      "cell_type": "markdown",
      "metadata": {
        "id": "oWncA1AMVez-"
      },
      "source": [
        "**Use seaborn to create a countplot of 911 calls by Reason.**"
      ]
    },
    {
      "cell_type": "code",
      "execution_count": 63,
      "metadata": {
        "id": "UK9teYDQVez_",
        "outputId": "70abe272-e071-43d2-8f68-027e19bba8e1",
        "colab": {
          "base_uri": "https://localhost:8080/",
          "height": 296
        }
      },
      "outputs": [
        {
          "output_type": "execute_result",
          "data": {
            "text/plain": [
              "<matplotlib.axes._subplots.AxesSubplot at 0x7f098dc43d90>"
            ]
          },
          "metadata": {},
          "execution_count": 63
        },
        {
          "output_type": "display_data",
          "data": {
            "image/png": "[encoded data removed]",
            "text/plain": [
              "<Figure size 432x288 with 1 Axes>"
            ]
          },
          "metadata": {
            "needs_background": "light"
          }
        }
      ],
      "source": [
        "# use seaborn to create a countplot of 911 calls by Reason.\n",
        "\n",
        "sns.countplot(x='Reason',data=df,palette='viridis')"
      ]
    },
    {
      "cell_type": "markdown",
      "metadata": {
        "id": "gqGIZVTuVez_"
      },
      "source": [
        "**Show the data type of the objects in the timeStamp column?**"
      ]
    },
    {
      "cell_type": "code",
      "execution_count": 64,
      "metadata": {
        "id": "HXvESF_2Vez_"
      },
      "outputs": [],
      "source": [
        "#converting the data type of timeStamp into pd.to_datetime format\n",
        "\n",
        "df['timeStamp'] = pd.to_datetime(df['timeStamp'])"
      ]
    },
    {
      "cell_type": "markdown",
      "metadata": {
        "id": "tNt6vf5dVe0A"
      },
      "source": [
        "**These timestamps are still strings. Use [pd.to_datetime](http://pandas.pydata.org/pandas-docs/stable/generated/pandas.to_datetime.html) to convert the column from strings to DateTime objects.**"
      ]
    },
    {
      "cell_type": "code",
      "execution_count": 65,
      "metadata": {
        "collapsed": true,
        "id": "DIewckHQVe0A",
        "colab": {
          "base_uri": "https://localhost:8080/"
        },
        "outputId": "b78a5021-d508-4642-bf6f-ec970c05ad2f"
      },
      "outputs": [
        {
          "output_type": "execute_result",
          "data": {
            "text/plain": [
              "pandas._libs.tslibs.timestamps.Timestamp"
            ]
          },
          "metadata": {},
          "execution_count": 65
        }
      ],
      "source": [
        "type(df['timeStamp'].iloc[0])"
      ]
    },
    {
      "cell_type": "code",
      "source": [
        "time = df['timeStamp'].iloc[0]\n",
        "time.hour"
      ],
      "metadata": {
        "colab": {
          "base_uri": "https://localhost:8080/"
        },
        "id": "crJP5uVTbGAl",
        "outputId": "85c6444e-58a3-48c3-ca99-2a6bc08fcc51"
      },
      "execution_count": 66,
      "outputs": [
        {
          "output_type": "execute_result",
          "data": {
            "text/plain": [
              "17"
            ]
          },
          "metadata": {},
          "execution_count": 66
        }
      ]
    },
    {
      "cell_type": "markdown",
      "metadata": {
        "id": "L9p7mJNGVe0A"
      },
      "source": [
        "**You can now grab specific attributes from a Datetime object by calling them. For example:**\n",
        "\n",
        "    time = df['timeStamp'].iloc[0]\n",
        "    time.hour\n",
        "\n",
        "**You can use Jupyter's tab method to explore the various attributes you can call. Now that the timestamp column are actually DateTime objects, use .apply() to create 3 new columns called Hour, Month, and Day of Week. You will create these columns based off of the timeStamp column.**"
      ]
    },
    {
      "cell_type": "code",
      "execution_count": 67,
      "metadata": {
        "id": "p81XaWaoVe0A"
      },
      "outputs": [],
      "source": [
        "# creating 3 new columns called Hour, Month, and Day of Week.\n",
        "\n",
        "df['Hour'] = df['timeStamp'].apply(lambda time: time.hour)\n",
        "df['Month'] = df['timeStamp'].apply(lambda time: time.month)\n",
        "df['Day of Week'] = df['timeStamp'].apply(lambda time: time.dayofweek)"
      ]
    },
    {
      "cell_type": "markdown",
      "metadata": {
        "id": "bEaR_6zUVe0B"
      },
      "source": [
        "**The Day of Week is an integer 0-6. Use the .map() with this dictionary to map the actual string names to the day of the week:**\n",
        "\n",
        "    dmap = {0:'Mon',1:'Tue',2:'Wed',3:'Thu',4:'Fri',5:'Sat',6:'Sun'}"
      ]
    },
    {
      "cell_type": "code",
      "execution_count": 68,
      "metadata": {
        "id": "327oMH_QVe0B"
      },
      "outputs": [],
      "source": [
        "dmap = {0:'Mon',1:'Tue',2:'Wed',3:'Thu',4:'Fri',5:'Sat',6:'Sun'}"
      ]
    },
    {
      "cell_type": "code",
      "execution_count": 69,
      "metadata": {
        "id": "5fOjkbHtVe0B"
      },
      "outputs": [],
      "source": [
        "df['Day of Week'] = df['Day of Week'].map(dmap)"
      ]
    },
    {
      "cell_type": "markdown",
      "metadata": {
        "id": "tOWxDYhcVe0B"
      },
      "source": [
        "**Use seaborn to create a countplot of the Day of Week column with the hue based off of the Reason column.**"
      ]
    },
    {
      "cell_type": "code",
      "execution_count": 70,
      "metadata": {
        "id": "Yh840gM6Ve0B",
        "outputId": "f73a8fe1-6894-4804-84ba-5037b3d6e0d1",
        "colab": {
          "base_uri": "https://localhost:8080/",
          "height": 296
        }
      },
      "outputs": [
        {
          "output_type": "execute_result",
          "data": {
            "text/plain": [
              "<matplotlib.legend.Legend at 0x7f098d37ed10>"
            ]
          },
          "metadata": {},
          "execution_count": 70
        },
        {
          "output_type": "display_data",
          "data": {
            "image/png": "[encoded data removed]",
            "text/plain": [
              "<Figure size 432x288 with 1 Axes>"
            ]
          },
          "metadata": {
            "needs_background": "light"
          }
        }
      ],
      "source": [
        "#creating a countplot of the Day of Week column with the hue based off of the Reason column\n",
        "sns.countplot(x='Day of Week',data=df,hue='Reason',palette='viridis')\n",
        "\n",
        "plt.legend(bbox_to_anchor=(1.05, 1), loc=2, borderaxespad=0.) # To relocate the legend"
      ]
    },
    {
      "cell_type": "markdown",
      "metadata": {
        "id": "3n4gFiNlVe0C"
      },
      "source": [
        "**Now do the same for Month:**"
      ]
    },
    {
      "cell_type": "code",
      "execution_count": 71,
      "metadata": {
        "scrolled": true,
        "id": "sX45ZD4eVe0C",
        "outputId": "81ab3fe7-2b64-4947-e126-fde2c162e4c6",
        "colab": {
          "base_uri": "https://localhost:8080/",
          "height": 296
        }
      },
      "outputs": [
        {
          "output_type": "execute_result",
          "data": {
            "text/plain": [
              "<matplotlib.legend.Legend at 0x7f098dba23d0>"
            ]
          },
          "metadata": {},
          "execution_count": 71
        },
        {
          "output_type": "display_data",
          "data": {
            "image/png": "[encoded data removed]",
            "text/plain": [
              "<Figure size 432x288 with 1 Axes>"
            ]
          },
          "metadata": {
            "needs_background": "light"
          }
        }
      ],
      "source": [
        "#creating a countplot of the Month with the hue based off of the Reason column\n",
        "\n",
        "sns.countplot(x='Month',data=df,hue='Reason',palette='viridis')\n",
        "plt.legend(bbox_to_anchor=(1.05, 1), loc=2, borderaxespad=0.) # To relocate the legend"
      ]
    },
    {
      "cell_type": "markdown",
      "metadata": {
        "id": "yg464zpBVe0C"
      },
      "source": [
        "**You should have noticed it was missing some Months, we fill in this information by plotting the information with a simple line plot that fills in the missing months**"
      ]
    },
    {
      "cell_type": "markdown",
      "metadata": {
        "id": "1qavYODqVe0C"
      },
      "source": [
        "**Now create a gropuby object called byMonth, where you group the DataFrame by the month column and use the count() method for aggregation. Use the head() method to show the head of this returned DataFrame.**"
      ]
    },
    {
      "cell_type": "code",
      "execution_count": 72,
      "metadata": {
        "id": "OSrH8q-mVe0D",
        "outputId": "fec6eb80-a03c-4e47-e6df-d62ec0cbafa5",
        "colab": {
          "base_uri": "https://localhost:8080/",
          "height": 238
        }
      },
      "outputs": [
        {
          "output_type": "execute_result",
          "data": {
            "text/html": [
              "\n",
              "  <div id=\"df-b000f6aa-2bc6-4bdb-9aca-f924f4888028\">\n",
              "    <div class=\"colab-df-container\">\n",
              "      <div>\n",
              "<style scoped>\n",
              "    .dataframe tbody tr th:only-of-type {\n",
              "        vertical-align: middle;\n",
              "    }\n",
              "\n",
              "    .dataframe tbody tr th {\n",
              "        vertical-align: top;\n",
              "    }\n",
              "\n",
              "    .dataframe thead th {\n",
              "        text-align: right;\n",
              "    }\n",
              "</style>\n",
              "<table border=\"1\" class=\"dataframe\">\n",
              "  <thead>\n",
              "    <tr style=\"text-align: right;\">\n",
              "      <th></th>\n",
              "      <th>lat</th>\n",
              "      <th>lng</th>\n",
              "      <th>desc</th>\n",
              "      <th>zip</th>\n",
              "      <th>title</th>\n",
              "      <th>timeStamp</th>\n",
              "      <th>twp</th>\n",
              "      <th>addr</th>\n",
              "      <th>e</th>\n",
              "      <th>Reason</th>\n",
              "      <th>Hour</th>\n",
              "      <th>Day of Week</th>\n",
              "    </tr>\n",
              "    <tr>\n",
              "      <th>Month</th>\n",
              "      <th></th>\n",
              "      <th></th>\n",
              "      <th></th>\n",
              "      <th></th>\n",
              "      <th></th>\n",
              "      <th></th>\n",
              "      <th></th>\n",
              "      <th></th>\n",
              "      <th></th>\n",
              "      <th></th>\n",
              "      <th></th>\n",
              "      <th></th>\n",
              "    </tr>\n",
              "  </thead>\n",
              "  <tbody>\n",
              "    <tr>\n",
              "      <th>1</th>\n",
              "      <td>13205</td>\n",
              "      <td>13205</td>\n",
              "      <td>13205</td>\n",
              "      <td>11527</td>\n",
              "      <td>13205</td>\n",
              "      <td>13205</td>\n",
              "      <td>13203</td>\n",
              "      <td>13096</td>\n",
              "      <td>13205</td>\n",
              "      <td>13205</td>\n",
              "      <td>13205</td>\n",
              "      <td>13205</td>\n",
              "    </tr>\n",
              "    <tr>\n",
              "      <th>2</th>\n",
              "      <td>11467</td>\n",
              "      <td>11467</td>\n",
              "      <td>11467</td>\n",
              "      <td>9930</td>\n",
              "      <td>11467</td>\n",
              "      <td>11467</td>\n",
              "      <td>11465</td>\n",
              "      <td>11396</td>\n",
              "      <td>11467</td>\n",
              "      <td>11467</td>\n",
              "      <td>11467</td>\n",
              "      <td>11467</td>\n",
              "    </tr>\n",
              "    <tr>\n",
              "      <th>3</th>\n",
              "      <td>11101</td>\n",
              "      <td>11101</td>\n",
              "      <td>11101</td>\n",
              "      <td>9755</td>\n",
              "      <td>11101</td>\n",
              "      <td>11101</td>\n",
              "      <td>11092</td>\n",
              "      <td>11059</td>\n",
              "      <td>11101</td>\n",
              "      <td>11101</td>\n",
              "      <td>11101</td>\n",
              "      <td>11101</td>\n",
              "    </tr>\n",
              "    <tr>\n",
              "      <th>4</th>\n",
              "      <td>11326</td>\n",
              "      <td>11326</td>\n",
              "      <td>11326</td>\n",
              "      <td>9895</td>\n",
              "      <td>11326</td>\n",
              "      <td>11326</td>\n",
              "      <td>11323</td>\n",
              "      <td>11283</td>\n",
              "      <td>11326</td>\n",
              "      <td>11326</td>\n",
              "      <td>11326</td>\n",
              "      <td>11326</td>\n",
              "    </tr>\n",
              "    <tr>\n",
              "      <th>5</th>\n",
              "      <td>11423</td>\n",
              "      <td>11423</td>\n",
              "      <td>11423</td>\n",
              "      <td>9946</td>\n",
              "      <td>11423</td>\n",
              "      <td>11423</td>\n",
              "      <td>11420</td>\n",
              "      <td>11378</td>\n",
              "      <td>11423</td>\n",
              "      <td>11423</td>\n",
              "      <td>11423</td>\n",
              "      <td>11423</td>\n",
              "    </tr>\n",
              "  </tbody>\n",
              "</table>\n",
              "</div>\n",
              "      <button class=\"colab-df-convert\" onclick=\"convertToInteractive('df-b000f6aa-2bc6-4bdb-9aca-f924f4888028')\"\n",
              "              title=\"Convert this dataframe to an interactive table.\"\n",
              "              style=\"display:none;\">\n",
              "        \n",
              "  <svg xmlns=\"http://www.w3.org/2000/svg\" height=\"24px\"viewBox=\"0 0 24 24\"\n",
              "       width=\"24px\">\n",
              "    <path d=\"M0 0h24v24H0V0z\" fill=\"none\"/>\n",
              "    <path d=\"M18.56 5.44l.94 2.06.94-2.06 2.06-.94-2.06-.94-.94-2.06-.94 2.06-2.06.94zm-11 1L8.5 8.5l.94-2.06 2.06-.94-2.06-.94L8.5 2.5l-.94 2.06-2.06.94zm10 10l.94 2.06.94-2.06 2.06-.94-2.06-.94-.94-2.06-.94 2.06-2.06.94z\"/><path d=\"M17.41 7.96l-1.37-1.37c-.4-.4-.92-.59-1.43-.59-.52 0-1.04.2-1.43.59L10.3 9.45l-7.72 7.72c-.78.78-.78 2.05 0 2.83L4 21.41c.39.39.9.59 1.41.59.51 0 1.02-.2 1.41-.59l7.78-7.78 2.81-2.81c.8-.78.8-2.07 0-2.86zM5.41 20L4 18.59l7.72-7.72 1.47 1.35L5.41 20z\"/>\n",
              "  </svg>\n",
              "      </button>\n",
              "      \n",
              "  <style>\n",
              "    .colab-df-container {\n",
              "      display:flex;\n",
              "      flex-wrap:wrap;\n",
              "      gap: 12px;\n",
              "    }\n",
              "\n",
              "    .colab-df-convert {\n",
              "      background-color: #E8F0FE;\n",
              "      border: none;\n",
              "      border-radius: 50%;\n",
              "      cursor: pointer;\n",
              "      display: none;\n",
              "      fill: #1967D2;\n",
              "      height: 32px;\n",
              "      padding: 0 0 0 0;\n",
              "      width: 32px;\n",
              "    }\n",
              "\n",
              "    .colab-df-convert:hover {\n",
              "      background-color: #E2EBFA;\n",
              "      box-shadow: 0px 1px 2px rgba(60, 64, 67, 0.3), 0px 1px 3px 1px rgba(60, 64, 67, 0.15);\n",
              "      fill: #174EA6;\n",
              "    }\n",
              "\n",
              "    [theme=dark] .colab-df-convert {\n",
              "      background-color: #3B4455;\n",
              "      fill: #D2E3FC;\n",
              "    }\n",
              "\n",
              "    [theme=dark] .colab-df-convert:hover {\n",
              "      background-color: #434B5C;\n",
              "      box-shadow: 0px 1px 3px 1px rgba(0, 0, 0, 0.15);\n",
              "      filter: drop-shadow(0px 1px 2px rgba(0, 0, 0, 0.3));\n",
              "      fill: #FFFFFF;\n",
              "    }\n",
              "  </style>\n",
              "\n",
              "      <script>\n",
              "        const buttonEl =\n",
              "          document.querySelector('#df-b000f6aa-2bc6-4bdb-9aca-f924f4888028 button.colab-df-convert');\n",
              "        buttonEl.style.display =\n",
              "          google.colab.kernel.accessAllowed ? 'block' : 'none';\n",
              "\n",
              "        async function convertToInteractive(key) {\n",
              "          const element = document.querySelector('#df-b000f6aa-2bc6-4bdb-9aca-f924f4888028');\n",
              "          const dataTable =\n",
              "            await google.colab.kernel.invokeFunction('convertToInteractive',\n",
              "                                                     [key], {});\n",
              "          if (!dataTable) return;\n",
              "\n",
              "          const docLinkHtml = 'Like what you see? Visit the ' +\n",
              "            '<a target=\"_blank\" href=https://colab.research.google.com/notebooks/data_table.ipynb>data table notebook</a>'\n",
              "            + ' to learn more about interactive tables.';\n",
              "          element.innerHTML = '';\n",
              "          dataTable['output_type'] = 'display_data';\n",
              "          await google.colab.output.renderOutput(dataTable, element);\n",
              "          const docLink = document.createElement('div');\n",
              "          docLink.innerHTML = docLinkHtml;\n",
              "          element.appendChild(docLink);\n",
              "        }\n",
              "      </script>\n",
              "    </div>\n",
              "  </div>\n",
              "  "
            ],
            "text/plain": [
              "         lat    lng   desc    zip  ...      e  Reason   Hour  Day of Week\n",
              "Month                              ...                                   \n",
              "1      13205  13205  13205  11527  ...  13205   13205  13205        13205\n",
              "2      11467  11467  11467   9930  ...  11467   11467  11467        11467\n",
              "3      11101  11101  11101   9755  ...  11101   11101  11101        11101\n",
              "4      11326  11326  11326   9895  ...  11326   11326  11326        11326\n",
              "5      11423  11423  11423   9946  ...  11423   11423  11423        11423\n",
              "\n",
              "[5 rows x 12 columns]"
            ]
          },
          "metadata": {},
          "execution_count": 72
        }
      ],
      "source": [
        "byMonth = df.groupby('Month').count()\n",
        "byMonth.head()"
      ]
    },
    {
      "cell_type": "markdown",
      "metadata": {
        "id": "meXJHtXlVe0D"
      },
      "source": [
        "**Now create a simple plot off of the dataframe with .plot() indicating the count of calls per month.**"
      ]
    },
    {
      "cell_type": "code",
      "execution_count": 73,
      "metadata": {
        "id": "2DOqEu_xVe0D",
        "outputId": "5bb1ec1d-8fa9-407b-c857-aa8b044479ab",
        "colab": {
          "base_uri": "https://localhost:8080/",
          "height": 296
        }
      },
      "outputs": [
        {
          "output_type": "execute_result",
          "data": {
            "text/plain": [
              "<matplotlib.axes._subplots.AxesSubplot at 0x7f098a34f610>"
            ]
          },
          "metadata": {},
          "execution_count": 73
        },
        {
          "output_type": "display_data",
          "data": {
            "image/png": "[encoded data removed]",
            "text/plain": [
              "<Figure size 432x288 with 1 Axes>"
            ]
          },
          "metadata": {
            "needs_background": "light"
          }
        }
      ],
      "source": [
        "# create a simple plot off of the dataframe indicating the count of calls per month.\n",
        "byMonth['twp'].plot()"
      ]
    },
    {
      "cell_type": "markdown",
      "metadata": {
        "id": "uuSW2yVQVe0D"
      },
      "source": [
        "**Use seaborn's lmplot() to create a linear fit on the number of calls per month. You may need to reset the index to a column.**"
      ]
    },
    {
      "cell_type": "code",
      "execution_count": 74,
      "metadata": {
        "id": "dqK0SO98Ve0D",
        "outputId": "379081be-dfc7-4643-be7c-433af8a1eb7c",
        "colab": {
          "base_uri": "https://localhost:8080/",
          "height": 386
        }
      },
      "outputs": [
        {
          "output_type": "execute_result",
          "data": {
            "text/plain": [
              "<seaborn.axisgrid.FacetGrid at 0x7f0987b4d710>"
            ]
          },
          "metadata": {},
          "execution_count": 74
        },
        {
          "output_type": "display_data",
          "data": {
            "image/png": "[encoded data removed]",
            "text/plain": [
              "<Figure size 360x360 with 1 Axes>"
            ]
          },
          "metadata": {
            "needs_background": "light"
          }
        }
      ],
      "source": [
        "sns.lmplot(x='Month',y='twp',data=byMonth.reset_index())"
      ]
    },
    {
      "cell_type": "markdown",
      "metadata": {
        "id": "HQUxCq1CVe0D"
      },
      "source": [
        "**Create a new column called 'Date' that contains the date from the timeStamp column. You'll need to use apply along with the .date() method.** "
      ]
    },
    {
      "cell_type": "code",
      "execution_count": 75,
      "metadata": {
        "collapsed": true,
        "id": "b4iAnVETVe0D"
      },
      "outputs": [],
      "source": [
        "df['Date']=df['timeStamp'].apply(lambda t: t.date())"
      ]
    },
    {
      "cell_type": "markdown",
      "metadata": {
        "id": "F42gRVXTVe0E"
      },
      "source": [
        "**Groupby this Date column with the count() aggregate and create a plot of counts of 911 calls.**"
      ]
    },
    {
      "cell_type": "code",
      "execution_count": 76,
      "metadata": {
        "id": "TWv1qbRbVe0E",
        "outputId": "31d4f5d5-f196-470a-f69c-0680f47927ef",
        "colab": {
          "base_uri": "https://localhost:8080/",
          "height": 297
        }
      },
      "outputs": [
        {
          "output_type": "display_data",
          "data": {
            "image/png": "[encoded data removed]",
            "text/plain": [
              "<Figure size 432x288 with 1 Axes>"
            ]
          },
          "metadata": {
            "needs_background": "light"
          }
        }
      ],
      "source": [
        "# roupby this Date column with the count() aggregate and create a plot of counts of 911 calls.\n",
        "df.groupby('Date').count()['twp'].plot()\n",
        "plt.tight_layout()"
      ]
    },
    {
      "cell_type": "markdown",
      "metadata": {
        "id": "_XKPWyuvVe0E"
      },
      "source": [
        "**Recreate this plot but create 3 separate plots with each plot representing a Reason for the 911 call. Title the plot. Use plt.tight_layout() to adjust the axis**"
      ]
    },
    {
      "cell_type": "code",
      "execution_count": 77,
      "metadata": {
        "id": "iV6zMbw0Ve0E",
        "outputId": "354e69ae-dd58-4e94-fd6c-fd859b6783f3",
        "colab": {
          "base_uri": "https://localhost:8080/",
          "height": 297
        }
      },
      "outputs": [
        {
          "output_type": "display_data",
          "data": {
            "image/png": "[encoded data removed]",
            "text/plain": [
              "<Figure size 432x288 with 1 Axes>"
            ]
          },
          "metadata": {
            "needs_background": "light"
          }
        }
      ],
      "source": [
        "# 3 separate plots with each plot representing a Reason for the 911 call\n",
        "\n",
        "df[df['Reason'] == \"Traffic\"].groupby('Date').count()['twp'].plot()\n",
        "plt.title('Traffic')\n",
        "plt.tight_layout()"
      ]
    },
    {
      "cell_type": "code",
      "execution_count": 78,
      "metadata": {
        "id": "x__guhFCVe0E",
        "outputId": "9159eaad-0264-4cf5-a0c5-1798aafb844c",
        "colab": {
          "base_uri": "https://localhost:8080/",
          "height": 297
        }
      },
      "outputs": [
        {
          "output_type": "display_data",
          "data": {
            "image/png": "[encoded data removed]",
            "text/plain": [
              "<Figure size 432x288 with 1 Axes>"
            ]
          },
          "metadata": {
            "needs_background": "light"
          }
        }
      ],
      "source": [
        "df[df['Reason'] == \"Fire\"].groupby('Date').count()['twp'].plot()\n",
        "plt.title('Fire')\n",
        "plt.tight_layout()\n"
      ]
    },
    {
      "cell_type": "code",
      "execution_count": 79,
      "metadata": {
        "id": "NqszXSuMVe0E",
        "outputId": "f8789c33-76a9-4031-dca0-ed383ec50d2a",
        "colab": {
          "base_uri": "https://localhost:8080/",
          "height": 297
        }
      },
      "outputs": [
        {
          "output_type": "display_data",
          "data": {
            "image/png": "[encoded data removed]",
            "text/plain": [
              "<Figure size 432x288 with 1 Axes>"
            ]
          },
          "metadata": {
            "needs_background": "light"
          }
        }
      ],
      "source": [
        "df[df['Reason'] == \"EMS\"].groupby('Date').count()['twp'].plot()\n",
        "plt.title('EMS')\n",
        "plt.tight_layout()"
      ]
    }
  ],
  "metadata": {
    "kernelspec": {
      "display_name": "Python 3",
      "language": "python",
      "name": "python3"
    },
    "language_info": {
      "codemirror_mode": {
        "name": "ipython",
        "version": 3
      },
      "file_extension": ".py",
      "mimetype": "text/x-python",
      "name": "python",
      "nbconvert_exporter": "python",
      "pygments_lexer": "ipython3",
      "version": "3.7.4"
    },
    "colab": {
      "name": "911_Calls_Project_Daneeth Reddy.ipynb",
      "provenance": []
    }
  },
  "nbformat": 4,
  "nbformat_minor": 0
}