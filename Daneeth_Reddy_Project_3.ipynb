{
  "cells": [
    {
      "cell_type": "markdown",
      "metadata": {
        "id": "1j3GbFZfQS6V"
      },
      "source": [
        "# MNIST classification\n",
        "\n",
        "The MNIST database of grayscale handwritten digits, available from this page http://yann.lecun.com/exdb/mnist/, has a training set of 60,000 examples, and a test set of 10,000 examples. It is a good database for people who want to try learning techniques and pattern recognition methods on real-world data."
      ]
    },
    {
      "cell_type": "markdown",
      "metadata": {
        "id": "rD6ZmjZTQS6W"
      },
      "source": [
        "## Import Libraries"
      ]
    },
    {
      "cell_type": "code",
      "execution_count": 2,
      "metadata": {
        "id": "wn4opwP2QS6X"
      },
      "outputs": [],
      "source": [
        "import matplotlib.pyplot as plt\n",
        "import numpy as np\n",
        "%matplotlib inline\n",
        "import warnings\n",
        "warnings.filterwarnings('ignore')"
      ]
    },
    {
      "cell_type": "markdown",
      "metadata": {
        "id": "dJjRvMWXQS6X"
      },
      "source": [
        "## The MNIST Dataset"
      ]
    },
    {
      "cell_type": "code",
      "execution_count": 3,
      "metadata": {
        "id": "BTmbp19IQS6Y"
      },
      "outputs": [],
      "source": [
        "from sklearn.datasets import fetch_openml\n",
        "mnist = fetch_openml('mnist_784')"
      ]
    },
    {
      "cell_type": "code",
      "execution_count": 4,
      "metadata": {
        "colab": {
          "base_uri": "https://localhost:8080/"
        },
        "id": "OILXf2KHQS6Y",
        "outputId": "5bd5e2f8-ccc7-4675-9550-a961a552bcdd"
      },
      "outputs": [
        {
          "output_type": "execute_result",
          "data": {
            "text/plain": [
              "dict_keys(['data', 'target', 'frame', 'categories', 'feature_names', 'target_names', 'DESCR', 'details', 'url'])"
            ]
          },
          "metadata": {},
          "execution_count": 4
        }
      ],
      "source": [
        "mnist.keys()"
      ]
    },
    {
      "cell_type": "code",
      "execution_count": 5,
      "metadata": {
        "colab": {
          "base_uri": "https://localhost:8080/"
        },
        "id": "zn_tzmX1QS6Y",
        "outputId": "ad5ed487-206b-47da-9889-ce07ae340d93"
      },
      "outputs": [
        {
          "output_type": "stream",
          "name": "stdout",
          "text": [
            "**Author**: Yann LeCun, Corinna Cortes, Christopher J.C. Burges  \n",
            "**Source**: [MNIST Website](http://yann.lecun.com/exdb/mnist/) - Date unknown  \n",
            "**Please cite**:  \n",
            "\n",
            "The MNIST database of handwritten digits with 784 features, raw data available at: http://yann.lecun.com/exdb/mnist/. It can be split in a training set of the first 60,000 examples, and a test set of 10,000 examples  \n",
            "\n",
            "It is a subset of a larger set available from NIST. The digits have been size-normalized and centered in a fixed-size image. It is a good database for people who want to try learning techniques and pattern recognition methods on real-world data while spending minimal efforts on preprocessing and formatting. The original black and white (bilevel) images from NIST were size normalized to fit in a 20x20 pixel box while preserving their aspect ratio. The resulting images contain grey levels as a result of the anti-aliasing technique used by the normalization algorithm. the images were centered in a 28x28 image by computing the center of mass of the pixels, and translating the image so as to position this point at the center of the 28x28 field.  \n",
            "\n",
            "With some classification methods (particularly template-based methods, such as SVM and K-nearest neighbors), the error rate improves when the digits are centered by bounding box rather than center of mass. If you do this kind of pre-processing, you should report it in your publications. The MNIST database was constructed from NIST's NIST originally designated SD-3 as their training set and SD-1 as their test set. However, SD-3 is much cleaner and easier to recognize than SD-1. The reason for this can be found on the fact that SD-3 was collected among Census Bureau employees, while SD-1 was collected among high-school students. Drawing sensible conclusions from learning experiments requires that the result be independent of the choice of training set and test among the complete set of samples. Therefore it was necessary to build a new database by mixing NIST's datasets.  \n",
            "\n",
            "The MNIST training set is composed of 30,000 patterns from SD-3 and 30,000 patterns from SD-1. Our test set was composed of 5,000 patterns from SD-3 and 5,000 patterns from SD-1. The 60,000 pattern training set contained examples from approximately 250 writers. We made sure that the sets of writers of the training set and test set were disjoint. SD-1 contains 58,527 digit images written by 500 different writers. In contrast to SD-3, where blocks of data from each writer appeared in sequence, the data in SD-1 is scrambled. Writer identities for SD-1 is available and we used this information to unscramble the writers. We then split SD-1 in two: characters written by the first 250 writers went into our new training set. The remaining 250 writers were placed in our test set. Thus we had two sets with nearly 30,000 examples each. The new training set was completed with enough examples from SD-3, starting at pattern # 0, to make a full set of 60,000 training patterns. Similarly, the new test set was completed with SD-3 examples starting at pattern # 35,000 to make a full set with 60,000 test patterns. Only a subset of 10,000 test images (5,000 from SD-1 and 5,000 from SD-3) is available on this site. The full 60,000 sample training set is available.\n",
            "\n",
            "Downloaded from openml.org.\n"
          ]
        }
      ],
      "source": [
        "print(mnist['DESCR'])"
      ]
    },
    {
      "cell_type": "markdown",
      "metadata": {
        "id": "knLSys55QS6Z"
      },
      "source": [
        "**Digit images are stored as 784-D vectors**. Each component represents the grayscale value of a pixel."
      ]
    },
    {
      "cell_type": "code",
      "execution_count": 6,
      "metadata": {
        "colab": {
          "base_uri": "https://localhost:8080/"
        },
        "id": "JF_4I2E0QS6Z",
        "outputId": "25bec634-fc5e-435c-dd81-d758c0a9392a"
      },
      "outputs": [
        {
          "output_type": "execute_result",
          "data": {
            "text/plain": [
              "(70000, 784)"
            ]
          },
          "metadata": {},
          "execution_count": 6
        }
      ],
      "source": [
        "data = mnist['data']\n",
        "data.shape"
      ]
    },
    {
      "cell_type": "code",
      "source": [
        "target = mnist['target']\n",
        "target.shape\n",
        "#target.head()"
      ],
      "metadata": {
        "colab": {
          "base_uri": "https://localhost:8080/"
        },
        "id": "04pwJ6WKbrUg",
        "outputId": "1191e340-474a-496d-a412-1d5ba64f59d2"
      },
      "execution_count": 17,
      "outputs": [
        {
          "output_type": "execute_result",
          "data": {
            "text/plain": [
              "(70000,)"
            ]
          },
          "metadata": {},
          "execution_count": 17
        }
      ]
    },
    {
      "cell_type": "markdown",
      "metadata": {
        "id": "YTEkfHj2QS6Z"
      },
      "source": [
        "### Visualize MNIST image\n",
        "We'll visutalize the **1st** sample image in the dataset. First reshape it into a 28-by-28 matrix array"
      ]
    },
    {
      "cell_type": "code",
      "execution_count": 7,
      "metadata": {
        "colab": {
          "base_uri": "https://localhost:8080/",
          "height": 282
        },
        "id": "5JidrRcyQS6a",
        "outputId": "1a80f766-15a6-447e-a953-e235557176e9"
      },
      "outputs": [
        {
          "output_type": "execute_result",
          "data": {
            "text/plain": [
              "<matplotlib.image.AxesImage at 0x7f89ef53ced0>"
            ]
          },
          "metadata": {},
          "execution_count": 7
        },
        {
          "output_type": "display_data",
          "data": {
            "text/plain": [
              "<Figure size 432x288 with 1 Axes>"
            ],
            "image/png": "[encoded data removed]"
          },
          "metadata": {
            "needs_background": "light"
          }
        }
      ],
      "source": [
        "img = data.values[0].reshape(28,28)\n",
        "plt.imshow(img, cmap=\"gray\")"
      ]
    },
    {
      "cell_type": "code",
      "source": [
        "data1 = data.values.reshape(70000,28,28)"
      ],
      "metadata": {
        "id": "6AtCBpoxbIvM"
      },
      "execution_count": 13,
      "outputs": []
    },
    {
      "cell_type": "code",
      "source": [
        "plt.imshow(data1[0], cmap=\"gray\")"
      ],
      "metadata": {
        "colab": {
          "base_uri": "https://localhost:8080/",
          "height": 282
        },
        "id": "1rP0F_-mbIza",
        "outputId": "76c4b554-3089-4cb4-bf39-3e9d8e3408a7"
      },
      "execution_count": 14,
      "outputs": [
        {
          "output_type": "execute_result",
          "data": {
            "text/plain": [
              "<matplotlib.image.AxesImage at 0x7f89e8181590>"
            ]
          },
          "metadata": {},
          "execution_count": 14
        },
        {
          "output_type": "display_data",
          "data": {
            "text/plain": [
              "<Figure size 432x288 with 1 Axes>"
            ],
            "image/png": "[encoded data removed]"
          },
          "metadata": {
            "needs_background": "light"
          }
        }
      ]
    },
    {
      "cell_type": "markdown",
      "metadata": {
        "id": "kygQmqCpQS6a"
      },
      "source": [
        "Print out the label (or digit) of the chosen image"
      ]
    },
    {
      "cell_type": "code",
      "execution_count": 18,
      "metadata": {
        "colab": {
          "base_uri": "https://localhost:8080/"
        },
        "id": "Lfy8pqWxQS6a",
        "outputId": "12bd132b-d520-4bec-98ea-8c74ae24bb9f"
      },
      "outputs": [
        {
          "output_type": "stream",
          "name": "stdout",
          "text": [
            "5\n"
          ]
        }
      ],
      "source": [
        "print(target[0])"
      ]
    },
    {
      "cell_type": "markdown",
      "metadata": {
        "id": "a595l8qpQS6a"
      },
      "source": [
        "Show the image using **imshow()** with the aurgments **cmap = plt.cm.gray, interpolation='nearest', clim=(0, 255)**"
      ]
    },
    {
      "cell_type": "code",
      "execution_count": 19,
      "metadata": {
        "id": "8b9rijoiQS6a",
        "outputId": "ad344b7c-b178-491e-9879-3af0c3dff647",
        "colab": {
          "base_uri": "https://localhost:8080/",
          "height": 298
        }
      },
      "outputs": [
        {
          "output_type": "execute_result",
          "data": {
            "text/plain": [
              "<matplotlib.image.AxesImage at 0x7f89e54e1950>"
            ]
          },
          "metadata": {},
          "execution_count": 19
        },
        {
          "output_type": "display_data",
          "data": {
            "text/plain": [
              "<Figure size 576x288 with 1 Axes>"
            ],
            "image/png": "[encoded data removed]"
          },
          "metadata": {
            "needs_background": "light"
          }
        }
      ],
      "source": [
        "plt.figure(figsize=(8,4));\n",
        "# use imshow below\n",
        "plt.title(target[0])\n",
        "plt.imshow(data1[0], cmap=plt.cm.gray,interpolation=\"nearest\",clim=(0, 255))"
      ]
    },
    {
      "cell_type": "markdown",
      "metadata": {
        "id": "clqquxgsQS6a"
      },
      "source": [
        "## Logistic Regression on MNIST"
      ]
    },
    {
      "cell_type": "markdown",
      "metadata": {
        "id": "XQ5MU4ZrQS6b"
      },
      "source": [
        "Splitting original dataset into 10000 samples for testing and 60000 for training, set **random_state=101**"
      ]
    },
    {
      "cell_type": "code",
      "execution_count": 20,
      "metadata": {
        "id": "2D-GBWh_QS6b"
      },
      "outputs": [],
      "source": [
        "from sklearn.model_selection import train_test_split"
      ]
    },
    {
      "cell_type": "code",
      "execution_count": 21,
      "metadata": {
        "id": "1I9UNBJ9QS6b"
      },
      "outputs": [],
      "source": [
        "x_train, x_test, y_train, y_test = train_test_split(data, target, test_size=10000, random_state=101)"
      ]
    },
    {
      "cell_type": "markdown",
      "metadata": {
        "id": "4Xs6rxxiQS6b"
      },
      "source": [
        "### Training\n",
        "\n",
        "Build a logistic regression model using default settings"
      ]
    },
    {
      "cell_type": "code",
      "execution_count": 22,
      "metadata": {
        "id": "0FGrA4N0QS6b"
      },
      "outputs": [],
      "source": [
        "from sklearn.linear_model import LogisticRegression\n",
        "logmodel = LogisticRegression()"
      ]
    },
    {
      "cell_type": "markdown",
      "metadata": {
        "id": "5dB3GzobQS6c"
      },
      "source": [
        "Fit the logistic regression model on training data and print out the running time for training process. It'll take a long time. Ignore the warnings. "
      ]
    },
    {
      "cell_type": "code",
      "execution_count": 24,
      "metadata": {
        "id": "p_5tie76QS6c",
        "outputId": "1c62e807-c59b-41c9-8a18-20d614320308",
        "colab": {
          "base_uri": "https://localhost:8080/"
        }
      },
      "outputs": [
        {
          "output_type": "stream",
          "name": "stdout",
          "text": [
            "Total time:  46.7641761302948 seconds\n"
          ]
        }
      ],
      "source": [
        "import time\n",
        "start = time.time()\n",
        "logmodel.fit(x_train,y_train)\n",
        "print(\"Total time: \", time.time() - start, \"seconds\")\n"
      ]
    },
    {
      "cell_type": "markdown",
      "metadata": {
        "id": "j9J5QnaTQS6c"
      },
      "source": [
        "### Testing\n",
        "\n",
        "Make predictions on test data and print out the classification report"
      ]
    },
    {
      "cell_type": "code",
      "execution_count": 25,
      "metadata": {
        "id": "5skFSJFHQS6c",
        "outputId": "f1a94d91-c624-43bf-bba2-786425f123ef",
        "colab": {
          "base_uri": "https://localhost:8080/"
        }
      },
      "outputs": [
        {
          "output_type": "stream",
          "name": "stdout",
          "text": [
            "              precision    recall  f1-score   support\n",
            "\n",
            "           0       0.96      0.97      0.97      1008\n",
            "           1       0.96      0.97      0.97      1097\n",
            "           2       0.92      0.90      0.91       989\n",
            "           3       0.89      0.89      0.89      1046\n",
            "           4       0.94      0.92      0.93       960\n",
            "           5       0.90      0.86      0.88       913\n",
            "           6       0.93      0.95      0.94      1005\n",
            "           7       0.93      0.93      0.93      1068\n",
            "           8       0.88      0.89      0.89       940\n",
            "           9       0.88      0.91      0.90       974\n",
            "\n",
            "    accuracy                           0.92     10000\n",
            "   macro avg       0.92      0.92      0.92     10000\n",
            "weighted avg       0.92      0.92      0.92     10000\n",
            "\n"
          ]
        }
      ],
      "source": [
        "from sklearn.metrics import classification_report\n",
        "predictions = logmodel.predict(x_test)\n",
        "print(classification_report(y_test,predictions))"
      ]
    },
    {
      "cell_type": "markdown",
      "metadata": {
        "id": "4WaBQ7JtQS6c"
      },
      "source": [
        "## Dimensional reduction by PCA "
      ]
    },
    {
      "cell_type": "code",
      "execution_count": 26,
      "metadata": {
        "id": "GKn5nD5dQS6d"
      },
      "outputs": [],
      "source": [
        "from sklearn.decomposition import PCA"
      ]
    },
    {
      "cell_type": "markdown",
      "metadata": {
        "id": "8Qlq2En4QS6d"
      },
      "source": [
        "Keep 100 principal components of the data (stored in vector form)"
      ]
    },
    {
      "cell_type": "code",
      "execution_count": 27,
      "metadata": {
        "id": "LGPh22IvQS6d",
        "outputId": "3dcb5a64-c126-4915-aeb8-c0b99f33a8f4",
        "colab": {
          "base_uri": "https://localhost:8080/"
        }
      },
      "outputs": [
        {
          "output_type": "execute_result",
          "data": {
            "text/plain": [
              "PCA(n_components=100)"
            ]
          },
          "metadata": {},
          "execution_count": 27
        }
      ],
      "source": [
        "pca = PCA(n_components=100)\n",
        "pca.fit(data)"
      ]
    },
    {
      "cell_type": "markdown",
      "metadata": {
        "id": "HEvheacLQS6d"
      },
      "source": [
        "Transform MNIST data to its first 100 principal components using **transform()**"
      ]
    },
    {
      "cell_type": "code",
      "execution_count": 28,
      "metadata": {
        "id": "qwM5wG21QS6d"
      },
      "outputs": [],
      "source": [
        "data_pca = pca.transform(data)"
      ]
    },
    {
      "cell_type": "markdown",
      "metadata": {
        "id": "ZV7kz_P2QS6e"
      },
      "source": [
        "Print out the dimension of data array after PCA"
      ]
    },
    {
      "cell_type": "code",
      "execution_count": 29,
      "metadata": {
        "id": "XgGWosGJQS6e",
        "outputId": "5d2b9e1e-5360-451d-cd1d-c024d2efb338",
        "colab": {
          "base_uri": "https://localhost:8080/"
        }
      },
      "outputs": [
        {
          "output_type": "stream",
          "name": "stdout",
          "text": [
            "original shape:    (70000, 784)\n",
            "transformed shape: (70000, 100)\n"
          ]
        }
      ],
      "source": [
        "print(\"original shape:   \", data.shape)\n",
        "print(\"transformed shape:\", data_pca.shape)"
      ]
    },
    {
      "cell_type": "markdown",
      "metadata": {
        "id": "2rE7UXcCQS6e"
      },
      "source": [
        "### Visualize the processed image"
      ]
    },
    {
      "cell_type": "markdown",
      "metadata": {
        "id": "A8Fyvez1QS6e"
      },
      "source": [
        "You need to first transform the PCA data back to the original coordinate system under standard basis. Simply use the attribute **inverse_transform()** for this "
      ]
    },
    {
      "cell_type": "code",
      "execution_count": 30,
      "metadata": {
        "id": "Alax12ZXQS6e",
        "colab": {
          "base_uri": "https://localhost:8080/"
        },
        "outputId": "b690049d-d5d4-4f62-bae5-60ece2a74a31"
      },
      "outputs": [
        {
          "output_type": "stream",
          "name": "stdout",
          "text": [
            "inverse transform: (70000, 784)\n"
          ]
        }
      ],
      "source": [
        "data_new = pca.inverse_transform(data_pca) # transform back into the original system\n",
        "print(\"inverse transform:\", data_new.shape)"
      ]
    },
    {
      "cell_type": "markdown",
      "metadata": {
        "id": "NQs0-fqTQS6e"
      },
      "source": [
        "Plot the orignal image and processed image (by PCA) side by side"
      ]
    },
    {
      "cell_type": "code",
      "execution_count": 37,
      "metadata": {
        "id": "oFiv6UCdQS6f",
        "outputId": "5d8cb02c-f09e-44d7-dd11-1af59dc937c6",
        "colab": {
          "base_uri": "https://localhost:8080/",
          "height": 282
        }
      },
      "outputs": [
        {
          "output_type": "execute_result",
          "data": {
            "text/plain": [
              "<matplotlib.image.AxesImage at 0x7f89e56a4d50>"
            ]
          },
          "metadata": {},
          "execution_count": 37
        },
        {
          "output_type": "display_data",
          "data": {
            "text/plain": [
              "<Figure size 576x288 with 1 Axes>"
            ],
            "image/png": "[encoded data removed]"
          },
          "metadata": {
            "needs_background": "light"
          }
        }
      ],
      "source": [
        "plt.figure(figsize=(8,4));\n",
        "\n",
        "# Original Image\n",
        "plt.imshow(data.values[0].reshape(28,28), cmap=\"gray\")\n",
        "# 100 principal components\n",
        "#plt.imshow(data_pca[0].reshape(10,10),cmap=\"gray\")\n",
        "\n"
      ]
    },
    {
      "cell_type": "markdown",
      "metadata": {
        "id": "bMKlOcAiQS6f"
      },
      "source": [
        "## Logistic Regression with PCA\n",
        "\n",
        "Splitting processed PCA data into 10000 samples for testing and 60000 for training, set **random_state=101**"
      ]
    },
    {
      "cell_type": "code",
      "execution_count": 39,
      "metadata": {
        "id": "wHVKLQQzQS6f"
      },
      "outputs": [],
      "source": [
        "x_train, x_test, y_train, y_test = train_test_split(data_pca, target, test_size=10000, random_state=101)"
      ]
    },
    {
      "cell_type": "markdown",
      "metadata": {
        "id": "Xg8enhkaQS6f"
      },
      "source": [
        "### Training "
      ]
    },
    {
      "cell_type": "markdown",
      "metadata": {
        "id": "6qATVq6wQS6f"
      },
      "source": [
        "Fit the logistic regression model on PCA data and print out the training time. Ignore the warnings."
      ]
    },
    {
      "cell_type": "code",
      "execution_count": 40,
      "metadata": {
        "id": "WztNM2ZAQS6f",
        "outputId": "06167277-a99d-4ee5-a832-46cb16f3a20e",
        "colab": {
          "base_uri": "https://localhost:8080/"
        }
      },
      "outputs": [
        {
          "output_type": "stream",
          "name": "stdout",
          "text": [
            "Total time:  12.375515699386597 seconds\n"
          ]
        }
      ],
      "source": [
        "import time\n",
        "start = time.time()\n",
        "logmodel.fit(x_train,y_train)\n",
        "print(\"Total time: \", time.time() - start, \"seconds\")"
      ]
    },
    {
      "cell_type": "markdown",
      "metadata": {
        "id": "msqKv4Q2QS6g"
      },
      "source": [
        "As we can see, dimensional reduction via PCA dramatically speeds up the training."
      ]
    },
    {
      "cell_type": "markdown",
      "metadata": {
        "id": "psy7tD5dQS6g"
      },
      "source": [
        "### Testing\n",
        "\n",
        "Make predictions on test data and print out the classification report"
      ]
    },
    {
      "cell_type": "code",
      "execution_count": 41,
      "metadata": {
        "id": "6-5mCleEQS6g",
        "outputId": "2fe31dc3-4eb6-4a9a-e076-52ee867fed96",
        "colab": {
          "base_uri": "https://localhost:8080/"
        }
      },
      "outputs": [
        {
          "output_type": "stream",
          "name": "stdout",
          "text": [
            "              precision    recall  f1-score   support\n",
            "\n",
            "           0       0.95      0.97      0.96      1008\n",
            "           1       0.93      0.97      0.95      1097\n",
            "           2       0.93      0.89      0.91       989\n",
            "           3       0.90      0.88      0.89      1046\n",
            "           4       0.91      0.92      0.91       960\n",
            "           5       0.89      0.85      0.87       913\n",
            "           6       0.92      0.96      0.94      1005\n",
            "           7       0.91      0.93      0.92      1068\n",
            "           8       0.91      0.86      0.88       940\n",
            "           9       0.89      0.90      0.89       974\n",
            "\n",
            "    accuracy                           0.91     10000\n",
            "   macro avg       0.91      0.91      0.91     10000\n",
            "weighted avg       0.91      0.91      0.91     10000\n",
            "\n"
          ]
        }
      ],
      "source": [
        "from sklearn.metrics import classification_report\n",
        "predictions = logmodel.predict(x_test)\n",
        "print(classification_report(y_test,predictions))"
      ]
    }
  ],
  "metadata": {
    "kernelspec": {
      "display_name": "Python 3",
      "language": "python",
      "name": "python3"
    },
    "language_info": {
      "codemirror_mode": {
        "name": "ipython",
        "version": 3
      },
      "file_extension": ".py",
      "mimetype": "text/x-python",
      "name": "python",
      "nbconvert_exporter": "python",
      "pygments_lexer": "ipython3",
      "version": "3.7.4"
    },
    "colab": {
      "name": "Daneeth Reddy Project_3.ipynb",
      "provenance": []
    }
  },
  "nbformat": 4,
  "nbformat_minor": 0
}